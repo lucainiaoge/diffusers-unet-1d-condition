{
 "cells": [
  {
   "cell_type": "markdown",
   "id": "6542b28e-aabc-4f65-aaa6-f58788cea0f9",
   "metadata": {},
   "source": [
    "# Test up/downsample 1d blocks"
   ]
  },
  {
   "cell_type": "code",
   "execution_count": 1,
   "id": "dd6f2650-8f15-4adc-8933-ef715fb16d67",
   "metadata": {},
   "outputs": [],
   "source": [
    "import torch\n",
    "import torch.nn.functional as F\n",
    "from torch import nn\n",
    "from models.upsampling import upsample_1d\n",
    "from models.downsampling import downsample_1d\n",
    "import matplotlib.pyplot as plt"
   ]
  },
  {
   "cell_type": "code",
   "execution_count": 2,
   "id": "fc0bf5a2-1c30-4d4d-94bd-79bcae81e136",
   "metadata": {},
   "outputs": [
    {
     "data": {
      "text/plain": [
       "<matplotlib.collections.PathCollection at 0x7f9297695b50>"
      ]
     },
     "execution_count": 2,
     "metadata": {},
     "output_type": "execute_result"
    },
    {
     "data": {
      "image/png": "[encoded data removed]",
      "text/plain": [
       "<Figure size 640x480 with 1 Axes>"
      ]
     },
     "metadata": {},
     "output_type": "display_data"
    }
   ],
   "source": [
    "t = torch.arange(40)\n",
    "t_up = torch.arange(80)/2\n",
    "t_down = torch.arange(20)*2\n",
    "hidden_states = torch.sin(2*torch.pi*t/16).unsqueeze(0).unsqueeze(1)\n",
    "kernel = (1, 3, 3, 1)\n",
    "hidden_states_up = upsample_1d(hidden_states, kernel, factor = 2)\n",
    "hidden_states_down = downsample_1d(hidden_states, kernel, factor = 2)\n",
    "\n",
    "plt.scatter(t, hidden_states.squeeze())\n",
    "plt.scatter(t_up, hidden_states_up.squeeze())\n",
    "plt.scatter(t_down, hidden_states_down.squeeze())"
   ]
  },
  {
   "cell_type": "markdown",
   "id": "99c142a9-98f4-4c00-a98f-ddcd6b66540f",
   "metadata": {},
   "source": [
    "# Test UNet1DConditionModel forward pass"
   ]
  },
  {
   "cell_type": "code",
   "execution_count": 3,
   "id": "241c4e15-9030-4095-8712-d79ccdc1a280",
   "metadata": {},
   "outputs": [],
   "source": [
    "from models.unet.unet_1d_condition import UNet1DConditionModel\n",
    "from diffusers import DPMSolverMultistepScheduler"
   ]
  },
  {
   "cell_type": "code",
   "execution_count": 4,
   "id": "b84136c8-f39f-45ce-a1a5-8f388898c6fb",
   "metadata": {},
   "outputs": [],
   "source": [
    "unet_1d = UNet1DConditionModel(\n",
    "    sample_size=1024,  # the target signal len\n",
    "    in_channels=1,\n",
    "    out_channels=2,\n",
    "    layers_per_block=2,  # how many ResNet layers to use per UNet block\n",
    "    block_out_channels=(64, 64, 64, 128, 256),  # the number of output channels for each UNet block\n",
    "    down_block_types=(\n",
    "        \"DownBlock1D\",\n",
    "        \"AttnDownBlock1D\", \n",
    "        \"SimpleCrossAttnDownBlock1D\",\n",
    "        \"CrossAttnDownBlock1D\",\n",
    "        \"ResnetDownsampleBlock1D\",\n",
    "    ),\n",
    "    mid_block_type=\"UNetMidBlock1DCrossAttn\",\n",
    "    up_block_types=(\n",
    "        \"ResnetUpsampleBlock1D\",\n",
    "        \"CrossAttnUpBlock1D\",\n",
    "        \"SimpleCrossAttnUpBlock1D\",\n",
    "        \"AttnUpBlock1D\", \n",
    "        \"UpBlock1D\",\n",
    "    ),\n",
    "    num_class_embeds=11,\n",
    "    class_embeddings_concat=True,\n",
    "    encoder_hid_dim=64\n",
    ")\n",
    "\n",
    "noise_scheduler = DPMSolverMultistepScheduler(\n",
    "    num_train_timesteps=1000,\n",
    "    prediction_type='epsilon',\n",
    ")"
   ]
  },
  {
   "cell_type": "code",
   "execution_count": 5,
   "id": "e12a9ccc-1cc3-4a6b-9e5b-c552499f3c3d",
   "metadata": {},
   "outputs": [
    {
     "name": "stdout",
     "output_type": "stream",
     "text": [
      "Input shape: torch.Size([4, 1, 480])\n",
      "Input max/min: (tensor(2.9811), tensor(-3.1412))\n",
      "Output shape: torch.Size([4, 2, 480])\n",
      "loss: tensor(1.1210)\n"
     ]
    }
   ],
   "source": [
    "sample_seq, sample_label = torch.randn(4, 1, 480), torch.tensor([1,2,3,4]).long()\n",
    "print(\"Input shape:\", sample_seq.shape)\n",
    "print(\"Input max/min:\", (sample_seq.max(), sample_seq.min()))\n",
    "\n",
    "with torch.no_grad():\n",
    "    noise = torch.randn(sample_seq.shape)\n",
    "    target_noise = torch.randn(sample_seq.repeat(1, 2, 1).shape)\n",
    "    timesteps = torch.LongTensor([5])\n",
    "    noisy_seq = noise_scheduler.add_noise(sample_seq, noise, timesteps)\n",
    "    dummy_seq_cond = torch.zeros([4, 1, 64])\n",
    "    noise_pred = unet_1d(sample_seq, timestep=0, encoder_hidden_states=dummy_seq_cond, class_labels=sample_label).sample\n",
    "    print(\"Output shape:\", noise_pred.shape)\n",
    "    loss = F.mse_loss(noise_pred, target_noise)\n",
    "\n",
    "print(\"loss:\", loss)"
   ]
  },
  {
   "cell_type": "code",
   "execution_count": null,
   "id": "20db25a3-8f7e-4587-b46b-6e4c17e035c8",
   "metadata": {},
   "outputs": [],
   "source": []
  },
  {
   "cell_type": "code",
   "execution_count": null,
   "id": "eee74cf0-33aa-4294-88c8-8bbd7010c903",
   "metadata": {},
   "outputs": [],
   "source": []
  },
  {
   "cell_type": "code",
   "execution_count": null,
   "id": "bdc0b2d3-a2d8-440a-86cc-43cb6f902af6",
   "metadata": {},
   "outputs": [],
   "source": []
  }
 ],
 "metadata": {
  "kernelspec": {
   "display_name": "Python 3 (ipykernel)",
   "language": "python",
   "name": "python3"
  },
  "language_info": {
   "codemirror_mode": {
    "name": "ipython",
    "version": 3
   },
   "file_extension": ".py",
   "mimetype": "text/x-python",
   "name": "python",
   "nbconvert_exporter": "python",
   "pygments_lexer": "ipython3",
   "version": "3.11.9"
  }
 },
 "nbformat": 4,
 "nbformat_minor": 5
}
